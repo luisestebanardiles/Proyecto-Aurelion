{
 "cells": [
  {
   "cell_type": "markdown",
   "id": "6876667c",
   "metadata": {},
   "source": [
    "# Analisis y Limpieza de datos con Pandas\n",
    "Voy a dividir la parte del analisis de la limpieza"
   ]
  },
  {
   "cell_type": "markdown",
   "id": "a360f640",
   "metadata": {},
   "source": [
    "Como vamos a trabajar con la libreria pandas lo primero que hacemos es importarla"
   ]
  },
  {
   "cell_type": "code",
   "execution_count": 1,
   "id": "26a2a660",
   "metadata": {},
   "outputs": [],
   "source": [
    "import pandas as pd"
   ]
  },
  {
   "cell_type": "markdown",
   "id": "cc036b4f",
   "metadata": {},
   "source": [
    "#### Leemos los datasets\n",
    "Para un mayor orden a todos los datasets los puse dentro de la carpeta datasets"
   ]
  },
  {
   "cell_type": "code",
   "execution_count": 16,
   "id": "caf1685d",
   "metadata": {},
   "outputs": [],
   "source": [
    "df_ventas = pd.read_excel('datasets/datasets_originales/ventas.xlsx')\n",
    "df_detalle = pd.read_excel('datasets/datasets_originales//detalle_ventas.xlsx')\n",
    "df_clientes = pd.read_excel('datasets/datasets_originales//clientes.xlsx')\n",
    "df_productos = pd.read_excel('datasets/datasets_originales//productos.xlsx')\n"
   ]
  },
  {
   "cell_type": "markdown",
   "id": "e587f3b7",
   "metadata": {},
   "source": [
    "# Etapa analisis\n",
    "Empezamos explorando los dataframes\n",
    "\n",
    "Lo hare mediante una funcion para poder reutilizar en cada dataframe"
   ]
  },
  {
   "cell_type": "code",
   "execution_count": 17,
   "id": "e69e4aff",
   "metadata": {},
   "outputs": [],
   "source": [
    "# vamos a hacer una funcion para inspeccionar los dataframes\n",
    "def inspeccionar_df(df, nombre_df):\n",
    "    print(f\"Inspeccionando el DataFrame: {nombre_df}\")\n",
    "    print(\"\\nfilas, columnas:\")\n",
    "    print(df.shape)\n",
    "    print(\"\\nPrimeras filas:\")\n",
    "    print(df.head())\n",
    "    print(\"\\nInformación del DataFrame:\")\n",
    "    print(df.info())\n",
    "    print(\"\\nDescripción estadística:\")\n",
    "    print(df.describe(include='all'))\n",
    "    print(\"\\nValores nulos por columna:\")\n",
    "    print(df.isnull().sum())\n",
    "    print(\"\\nFilas duplicadas:\", df.duplicated().sum())\n",
    "    \n",
    "    "
   ]
  },
  {
   "cell_type": "markdown",
   "id": "849250be",
   "metadata": {},
   "source": [
    "Ahora podemos analizar uno por uno cada dataframe solo llamando a la funcion inspeccionar_df"
   ]
  },
  {
   "cell_type": "markdown",
   "id": "ad8a9e35",
   "metadata": {},
   "source": [
    "## Dataframe clientes"
   ]
  },
  {
   "cell_type": "code",
   "execution_count": 18,
   "id": "e172bca5",
   "metadata": {},
   "outputs": [
    {
     "name": "stdout",
     "output_type": "stream",
     "text": [
      "Inspeccionando el DataFrame: df_clientes\n",
      "\n",
      "filas, columnas:\n",
      "(100, 5)\n",
      "\n",
      "Primeras filas:\n",
      "   id_cliente   nombre_cliente                     email      ciudad  \\\n",
      "0           1    Mariana Lopez    mariana.lopez@mail.com  Carlos Paz   \n",
      "1           2    Nicolas Rojas    nicolas.rojas@mail.com  Carlos Paz   \n",
      "2           3  Hernan Martinez  hernan.martinez@mail.com  Rio Cuarto   \n",
      "3           4     Uma Martinez     uma.martinez@mail.com  Carlos Paz   \n",
      "4           5  Agustina Flores  agustina.flores@mail.com     Cordoba   \n",
      "\n",
      "  fecha_alta  \n",
      "0 2023-01-01  \n",
      "1 2023-01-02  \n",
      "2 2023-01-03  \n",
      "3 2023-01-04  \n",
      "4 2023-01-05  \n",
      "\n",
      "Información del DataFrame:\n",
      "<class 'pandas.core.frame.DataFrame'>\n",
      "RangeIndex: 100 entries, 0 to 99\n",
      "Data columns (total 5 columns):\n",
      " #   Column          Non-Null Count  Dtype         \n",
      "---  ------          --------------  -----         \n",
      " 0   id_cliente      100 non-null    int64         \n",
      " 1   nombre_cliente  100 non-null    object        \n",
      " 2   email           100 non-null    object        \n",
      " 3   ciudad          100 non-null    object        \n",
      " 4   fecha_alta      100 non-null    datetime64[ns]\n",
      "dtypes: datetime64[ns](1), int64(1), object(3)\n",
      "memory usage: 4.0+ KB\n",
      "None\n",
      "\n",
      "Descripción estadística:\n",
      "        id_cliente nombre_cliente                   email      ciudad  \\\n",
      "count   100.000000            100                     100         100   \n",
      "unique         NaN             95                     100           6   \n",
      "top            NaN   Bruno Castro  mariana.lopez@mail.com  Rio Cuarto   \n",
      "freq           NaN              2                       1          23   \n",
      "mean     50.500000            NaN                     NaN         NaN   \n",
      "min       1.000000            NaN                     NaN         NaN   \n",
      "25%      25.750000            NaN                     NaN         NaN   \n",
      "50%      50.500000            NaN                     NaN         NaN   \n",
      "75%      75.250000            NaN                     NaN         NaN   \n",
      "max     100.000000            NaN                     NaN         NaN   \n",
      "std      29.011492            NaN                     NaN         NaN   \n",
      "\n",
      "                 fecha_alta  \n",
      "count                   100  \n",
      "unique                  NaN  \n",
      "top                     NaN  \n",
      "freq                    NaN  \n",
      "mean    2023-02-19 12:00:00  \n",
      "min     2023-01-01 00:00:00  \n",
      "25%     2023-01-25 18:00:00  \n",
      "50%     2023-02-19 12:00:00  \n",
      "75%     2023-03-16 06:00:00  \n",
      "max     2023-04-10 00:00:00  \n",
      "std                     NaN  \n",
      "\n",
      "Valores nulos por columna:\n",
      "id_cliente        0\n",
      "nombre_cliente    0\n",
      "email             0\n",
      "ciudad            0\n",
      "fecha_alta        0\n",
      "dtype: int64\n",
      "\n",
      "Filas duplicadas: 0\n"
     ]
    }
   ],
   "source": [
    "inspeccionar_df(df_clientes, 'df_clientes')"
   ]
  },
  {
   "cell_type": "markdown",
   "id": "58367763",
   "metadata": {},
   "source": [
    "Luego de este analisis podemos concluir que:\n",
    "\n",
    "- Tenemos 100 filas y 5 columnas \n",
    "\n",
    "- Los nombres de la columnas son correctos (minusculas y separados por guion bajo)\n",
    "\n",
    "- No hay valores nulos\n",
    "\n",
    "- Los tipos de datos son correctos\n",
    "\n",
    "- Moda:\n",
    "    \n",
    "    - *nombre_cliente*: Bruno Castro (2)\n",
    "\n",
    "    - *Ciudad*: Rio Cuarto (23)\n",
    "\n",
    "- No hay filas duplicadas"
   ]
  },
  {
   "cell_type": "markdown",
   "id": "aaafe77e",
   "metadata": {},
   "source": [
    "## Dataframe productos"
   ]
  },
  {
   "cell_type": "code",
   "execution_count": 13,
   "id": "093b230a",
   "metadata": {},
   "outputs": [
    {
     "name": "stdout",
     "output_type": "stream",
     "text": [
      "Inspeccionando el DataFrame: df_productos\n",
      "\n",
      "filas, columnas:\n",
      "(100, 4)\n",
      "\n",
      "Primeras filas:\n",
      "   id_producto     nombre_producto  categoria  precio_unitario\n",
      "0            1      Coca Cola 1.5L  Alimentos             2347\n",
      "1            2          Pepsi 1.5L   Limpieza             4973\n",
      "2            3         Sprite 1.5L  Alimentos             4964\n",
      "3            4  Fanta Naranja 1.5L   Limpieza             2033\n",
      "4            5  Agua Mineral 500ml  Alimentos             4777\n",
      "\n",
      "Información del DataFrame:\n",
      "<class 'pandas.core.frame.DataFrame'>\n",
      "RangeIndex: 100 entries, 0 to 99\n",
      "Data columns (total 4 columns):\n",
      " #   Column           Non-Null Count  Dtype \n",
      "---  ------           --------------  ----- \n",
      " 0   id_producto      100 non-null    int64 \n",
      " 1   nombre_producto  100 non-null    object\n",
      " 2   categoria        100 non-null    object\n",
      " 3   precio_unitario  100 non-null    int64 \n",
      "dtypes: int64(2), object(2)\n",
      "memory usage: 3.3+ KB\n",
      "None\n",
      "\n",
      "Descripción estadística:\n",
      "        id_producto nombre_producto  categoria  precio_unitario\n",
      "count    100.000000             100        100       100.000000\n",
      "unique          NaN             100          2              NaN\n",
      "top             NaN  Coca Cola 1.5L  Alimentos              NaN\n",
      "freq            NaN               1         50              NaN\n",
      "mean      50.500000             NaN        NaN      2718.550000\n",
      "std       29.011492             NaN        NaN      1381.635324\n",
      "min        1.000000             NaN        NaN       272.000000\n",
      "25%       25.750000             NaN        NaN      1590.000000\n",
      "50%       50.500000             NaN        NaN      2516.000000\n",
      "75%       75.250000             NaN        NaN      4026.500000\n",
      "max      100.000000             NaN        NaN      4982.000000\n",
      "\n",
      "Valores nulos por columna:\n",
      "id_producto        0\n",
      "nombre_producto    0\n",
      "categoria          0\n",
      "precio_unitario    0\n",
      "dtype: int64\n",
      "\n",
      "Filas duplicadas: 0\n"
     ]
    }
   ],
   "source": [
    "inspeccionar_df(df_productos, 'df_productos')"
   ]
  },
  {
   "cell_type": "markdown",
   "id": "7a8a31f0",
   "metadata": {},
   "source": [
    "Luego de este analisis podemos concluir que:\n",
    "\n",
    "- Tenemos 100 filas y 4 columnas \n",
    "\n",
    "- Los nombres de la columnas son correctos (minusculas y separados por guion bajo)\n",
    "\n",
    "- No hay valores nulos\n",
    "\n",
    "- ❌**Hay productos mal categorizados**\n",
    "\n",
    "- ❌**precio_unitario tiene es entero y deberia ser decimal**\n",
    "\n",
    "- Solo tenemos 2 categorias de productos\n",
    "\n",
    "- No hay moda, ya que todos tienen igual frecuencia tanto en **nombre_producto** como **categoria**\n",
    "\n",
    "- Precio_unitario:\n",
    "    - **Promedio** = $2718.55\n",
    "    - **Mediana** = $2516.00\n",
    "\n",
    "- No hay filas duplicadas"
   ]
  },
  {
   "cell_type": "markdown",
   "id": "b658cf51",
   "metadata": {},
   "source": [
    "## Dataframe ventas"
   ]
  },
  {
   "cell_type": "code",
   "execution_count": 14,
   "id": "bcd4754d",
   "metadata": {},
   "outputs": [
    {
     "name": "stdout",
     "output_type": "stream",
     "text": [
      "Inspeccionando el DataFrame: df_ventas\n",
      "\n",
      "filas, columnas:\n",
      "(120, 6)\n",
      "\n",
      "Primeras filas:\n",
      "   id_venta      fecha  id_cliente    nombre_cliente  \\\n",
      "0         1 2024-06-19          62  Guadalupe Romero   \n",
      "1         2 2024-03-17          49      Olivia Gomez   \n",
      "2         3 2024-01-13          20      Tomas Acosta   \n",
      "3         4 2024-02-27          36    Martina Molina   \n",
      "4         5 2024-06-11          56        Bruno Diaz   \n",
      "\n",
      "                       email     medio_pago  \n",
      "0  guadalupe.romero@mail.com        tarjeta  \n",
      "1      olivia.gomez@mail.com             qr  \n",
      "2      tomas.acosta@mail.com        tarjeta  \n",
      "3    martina.molina@mail.com  transferencia  \n",
      "4        bruno.diaz@mail.com        tarjeta  \n",
      "\n",
      "Información del DataFrame:\n",
      "<class 'pandas.core.frame.DataFrame'>\n",
      "RangeIndex: 120 entries, 0 to 119\n",
      "Data columns (total 6 columns):\n",
      " #   Column          Non-Null Count  Dtype         \n",
      "---  ------          --------------  -----         \n",
      " 0   id_venta        120 non-null    int64         \n",
      " 1   fecha           120 non-null    datetime64[ns]\n",
      " 2   id_cliente      120 non-null    int64         \n",
      " 3   nombre_cliente  120 non-null    object        \n",
      " 4   email           120 non-null    object        \n",
      " 5   medio_pago      120 non-null    object        \n",
      "dtypes: datetime64[ns](1), int64(2), object(3)\n",
      "memory usage: 5.8+ KB\n",
      "None\n",
      "\n",
      "Descripción estadística:\n",
      "          id_venta                fecha  id_cliente nombre_cliente  \\\n",
      "count   120.000000                  120  120.000000            120   \n",
      "unique         NaN                  NaN         NaN             64   \n",
      "top            NaN                  NaN         NaN     Bruno Diaz   \n",
      "freq           NaN                  NaN         NaN              5   \n",
      "mean     60.500000  2024-03-29 17:36:00   47.291667            NaN   \n",
      "min       1.000000  2024-01-02 00:00:00    1.000000            NaN   \n",
      "25%      30.750000  2024-02-11 06:00:00   24.500000            NaN   \n",
      "50%      60.500000  2024-03-25 00:00:00   48.500000            NaN   \n",
      "75%      90.250000  2024-05-19 06:00:00   67.500000            NaN   \n",
      "max     120.000000  2024-06-28 00:00:00  100.000000            NaN   \n",
      "std      34.785054                  NaN   27.854181            NaN   \n",
      "\n",
      "                      email medio_pago  \n",
      "count                   120        120  \n",
      "unique                   67          4  \n",
      "top     bruno.diaz@mail.com   efectivo  \n",
      "freq                      5         37  \n",
      "mean                    NaN        NaN  \n",
      "min                     NaN        NaN  \n",
      "25%                     NaN        NaN  \n",
      "50%                     NaN        NaN  \n",
      "75%                     NaN        NaN  \n",
      "max                     NaN        NaN  \n",
      "std                     NaN        NaN  \n",
      "\n",
      "Valores nulos por columna:\n",
      "id_venta          0\n",
      "fecha             0\n",
      "id_cliente        0\n",
      "nombre_cliente    0\n",
      "email             0\n",
      "medio_pago        0\n",
      "dtype: int64\n",
      "\n",
      "Filas duplicadas: 0\n"
     ]
    }
   ],
   "source": [
    "inspeccionar_df(df_ventas, 'df_ventas')"
   ]
  },
  {
   "cell_type": "markdown",
   "id": "7bb9f0c2",
   "metadata": {},
   "source": [
    "Luego de este analisis podemos concluir que:\n",
    "\n",
    "- Tenemos 120 filas y 6 columnas \n",
    "\n",
    "- Los nombres de la columnas son correctos (minusculas y separados por guion bajo)\n",
    "\n",
    "- No hay valores nulos\n",
    "\n",
    "- Los tipos de datos son correctos\n",
    "\n",
    "- Hay 67 cuentas de clientes diferentes (email)\n",
    "\n",
    "- Hay 4 medios de pagos\n",
    "\n",
    "- Moda:\n",
    "    \n",
    "    - *nombre_cliente*: Bruno Diaz (5)\n",
    "\n",
    "    - *email*: bruno.diaz@mail.com (5)\n",
    "\n",
    "- No hay filas duplicadas"
   ]
  },
  {
   "cell_type": "markdown",
   "id": "3668c0e3",
   "metadata": {},
   "source": [
    "## Dataframe detalle_ventas"
   ]
  },
  {
   "cell_type": "code",
   "execution_count": 15,
   "id": "75494b83",
   "metadata": {},
   "outputs": [
    {
     "name": "stdout",
     "output_type": "stream",
     "text": [
      "Inspeccionando el DataFrame: df_detalle\n",
      "\n",
      "filas, columnas:\n",
      "(343, 6)\n",
      "\n",
      "Primeras filas:\n",
      "   id_venta  id_producto        nombre_producto  cantidad  precio_unitario  \\\n",
      "0         1           90    Toallas Húmedas x50         1             2902   \n",
      "1         2           82  Aceitunas Negras 200g         5             2394   \n",
      "2         2           39     Helado Vainilla 1L         5              469   \n",
      "3         2           70           Fernet 750ml         2             4061   \n",
      "4         2           22  Medialunas de Manteca         1             2069   \n",
      "\n",
      "   importe  \n",
      "0     2902  \n",
      "1    11970  \n",
      "2     2345  \n",
      "3     8122  \n",
      "4     2069  \n",
      "\n",
      "Información del DataFrame:\n",
      "<class 'pandas.core.frame.DataFrame'>\n",
      "RangeIndex: 343 entries, 0 to 342\n",
      "Data columns (total 6 columns):\n",
      " #   Column           Non-Null Count  Dtype \n",
      "---  ------           --------------  ----- \n",
      " 0   id_venta         343 non-null    int64 \n",
      " 1   id_producto      343 non-null    int64 \n",
      " 2   nombre_producto  343 non-null    object\n",
      " 3   cantidad         343 non-null    int64 \n",
      " 4   precio_unitario  343 non-null    int64 \n",
      " 5   importe          343 non-null    int64 \n",
      "dtypes: int64(5), object(1)\n",
      "memory usage: 16.2+ KB\n",
      "None\n",
      "\n",
      "Descripción estadística:\n",
      "          id_venta  id_producto     nombre_producto    cantidad  \\\n",
      "count   343.000000   343.000000                 343  343.000000   \n",
      "unique         NaN          NaN                  95         NaN   \n",
      "top            NaN          NaN  Queso Rallado 150g         NaN   \n",
      "freq           NaN          NaN                   9         NaN   \n",
      "mean     61.492711    49.139942                 NaN    2.962099   \n",
      "std      34.835525    29.135461                 NaN    1.366375   \n",
      "min       1.000000     1.000000                 NaN    1.000000   \n",
      "25%      31.000000    23.000000                 NaN    2.000000   \n",
      "50%      61.000000    47.000000                 NaN    3.000000   \n",
      "75%      93.000000    76.000000                 NaN    4.000000   \n",
      "max     120.000000   100.000000                 NaN    5.000000   \n",
      "\n",
      "        precio_unitario       importe  \n",
      "count        343.000000    343.000000  \n",
      "unique              NaN           NaN  \n",
      "top                 NaN           NaN  \n",
      "freq                NaN           NaN  \n",
      "mean        2654.495627   7730.078717  \n",
      "std         1308.694720   5265.543077  \n",
      "min          272.000000    272.000000  \n",
      "25%         1618.500000   3489.000000  \n",
      "50%         2512.000000   6702.000000  \n",
      "75%         3876.000000  10231.500000  \n",
      "max         4982.000000  24865.000000  \n",
      "\n",
      "Valores nulos por columna:\n",
      "id_venta           0\n",
      "id_producto        0\n",
      "nombre_producto    0\n",
      "cantidad           0\n",
      "precio_unitario    0\n",
      "importe            0\n",
      "dtype: int64\n",
      "\n",
      "Filas duplicadas: 0\n"
     ]
    }
   ],
   "source": [
    "inspeccionar_df(df_detalle, 'df_detalle')"
   ]
  },
  {
   "cell_type": "markdown",
   "id": "5263f777",
   "metadata": {},
   "source": [
    "Luego de este analisis podemos concluir que:\n",
    "\n",
    "- Tenemos 343 filas y 6 columnas \n",
    "\n",
    "- Los nombres de la columnas son correctos (minusculas y separados por guion bajo)\n",
    "\n",
    "- No hay valores nulos\n",
    "\n",
    "- ❌**Los tipos de datos precio_unitario e importe deberian ser del tipo decimal (estan como enteros)** \n",
    "\n",
    "- Hay 95 productos diferentes (nombre_producto)\n",
    "\n",
    "- Moda: *nombre_producto*: Queso Rallado 150g (9)\n",
    "\n",
    "- No hay filas duplicadas"
   ]
  },
  {
   "cell_type": "markdown",
   "id": "cced4714",
   "metadata": {},
   "source": [
    "----\n",
    "Ya analice todos los dataframes y los casos a tener en cuenta a la hora de limpiar los datos estan en negrita y con una cruz roja (❌)\n",
    "\n",
    "---"
   ]
  },
  {
   "cell_type": "markdown",
   "id": "98493ccb",
   "metadata": {},
   "source": [
    "# Etapa de Limpieza\n",
    "Para mantener los archivos originales y poder comparar el antes y el despues, voy a hacer una copia de todos los dataframes y modificar las copias, a estos nuevos datasets los pondré en una subcarpeta llamada datasets_limpios"
   ]
  },
  {
   "cell_type": "code",
   "execution_count": 19,
   "id": "ecd6f359",
   "metadata": {},
   "outputs": [],
   "source": [
    "df_clientes_limpio = df_clientes.copy()\n",
    "df_productos_limpio = df_productos.copy()\n",
    "df_ventas_limpio = df_ventas.copy()\n",
    "df_detalle_limpio = df_detalle.copy()\n",
    "\n",
    "# ahora guardamos los datasets en la subcarpeta datasets_limpios\n",
    "\n",
    "df_clientes_limpio.to_excel('datasets/datasets_limpios/clientes_limpio.xlsx', index=False)\n",
    "df_productos_limpio.to_excel('datasets/datasets_limpios/productos_limpio.xlsx', index=False)\n",
    "df_ventas_limpio.to_excel('datasets/datasets_limpios/ventas_limpio.xlsx', index=False)\n",
    "df_detalle_limpio.to_excel('datasets/datasets_limpios/detalle_ventas_limpio.xlsx', index=False)"
   ]
  },
  {
   "cell_type": "markdown",
   "id": "4b4fd890",
   "metadata": {},
   "source": [
    "----\n"
   ]
  },
  {
   "cell_type": "markdown",
   "id": "317f0fd0",
   "metadata": {},
   "source": [
    "de aqui para abajo es viejo"
   ]
  },
  {
   "cell_type": "code",
   "execution_count": null,
   "id": "a3b136d6",
   "metadata": {},
   "outputs": [
    {
     "data": {
      "text/html": [
       "<div>\n",
       "<style scoped>\n",
       "    .dataframe tbody tr th:only-of-type {\n",
       "        vertical-align: middle;\n",
       "    }\n",
       "\n",
       "    .dataframe tbody tr th {\n",
       "        vertical-align: top;\n",
       "    }\n",
       "\n",
       "    .dataframe thead th {\n",
       "        text-align: right;\n",
       "    }\n",
       "</style>\n",
       "<table border=\"1\" class=\"dataframe\">\n",
       "  <thead>\n",
       "    <tr style=\"text-align: right;\">\n",
       "      <th></th>\n",
       "      <th>id_cliente</th>\n",
       "      <th>nombre_cliente</th>\n",
       "      <th>email</th>\n",
       "      <th>ciudad</th>\n",
       "      <th>fecha_alta</th>\n",
       "    </tr>\n",
       "  </thead>\n",
       "  <tbody>\n",
       "    <tr>\n",
       "      <th>7</th>\n",
       "      <td>8</td>\n",
       "      <td>Bruno Castro</td>\n",
       "      <td>bruno.castro@mail.com</td>\n",
       "      <td>Carlos Paz</td>\n",
       "      <td>2023-01-08</td>\n",
       "    </tr>\n",
       "    <tr>\n",
       "      <th>9</th>\n",
       "      <td>10</td>\n",
       "      <td>Karina Acosta</td>\n",
       "      <td>karina.acosta@mail.com</td>\n",
       "      <td>Cordoba</td>\n",
       "      <td>2023-01-10</td>\n",
       "    </tr>\n",
       "    <tr>\n",
       "      <th>20</th>\n",
       "      <td>21</td>\n",
       "      <td>Elena Rodriguez</td>\n",
       "      <td>elena.rodriguez@mail.com</td>\n",
       "      <td>Alta Gracia</td>\n",
       "      <td>2023-01-21</td>\n",
       "    </tr>\n",
       "    <tr>\n",
       "      <th>33</th>\n",
       "      <td>34</td>\n",
       "      <td>Bruno Castro</td>\n",
       "      <td>bruno.castro2@mail.com</td>\n",
       "      <td>Villa Maria</td>\n",
       "      <td>2023-02-03</td>\n",
       "    </tr>\n",
       "    <tr>\n",
       "      <th>40</th>\n",
       "      <td>41</td>\n",
       "      <td>Elena Rodriguez</td>\n",
       "      <td>elena.rodriguez2@mail.com</td>\n",
       "      <td>Alta Gracia</td>\n",
       "      <td>2023-02-10</td>\n",
       "    </tr>\n",
       "    <tr>\n",
       "      <th>45</th>\n",
       "      <td>46</td>\n",
       "      <td>Agustina Martinez</td>\n",
       "      <td>agustina.martinez@mail.com</td>\n",
       "      <td>Alta Gracia</td>\n",
       "      <td>2023-02-15</td>\n",
       "    </tr>\n",
       "    <tr>\n",
       "      <th>57</th>\n",
       "      <td>58</td>\n",
       "      <td>Karina Acosta</td>\n",
       "      <td>karina.acosta2@mail.com</td>\n",
       "      <td>Rio Cuarto</td>\n",
       "      <td>2023-02-27</td>\n",
       "    </tr>\n",
       "    <tr>\n",
       "      <th>78</th>\n",
       "      <td>79</td>\n",
       "      <td>Olivia Perez</td>\n",
       "      <td>olivia.perez@mail.com</td>\n",
       "      <td>Carlos Paz</td>\n",
       "      <td>2023-03-20</td>\n",
       "    </tr>\n",
       "    <tr>\n",
       "      <th>84</th>\n",
       "      <td>85</td>\n",
       "      <td>Agustina Martinez</td>\n",
       "      <td>agustina.martinez2@mail.com</td>\n",
       "      <td>Mendiolaza</td>\n",
       "      <td>2023-03-26</td>\n",
       "    </tr>\n",
       "    <tr>\n",
       "      <th>94</th>\n",
       "      <td>95</td>\n",
       "      <td>Olivia Perez</td>\n",
       "      <td>olivia.perez2@mail.com</td>\n",
       "      <td>Rio Cuarto</td>\n",
       "      <td>2023-04-05</td>\n",
       "    </tr>\n",
       "  </tbody>\n",
       "</table>\n",
       "</div>"
      ],
      "text/plain": [
       "    id_cliente     nombre_cliente                        email       ciudad  \\\n",
       "7            8       Bruno Castro        bruno.castro@mail.com   Carlos Paz   \n",
       "9           10      Karina Acosta       karina.acosta@mail.com      Cordoba   \n",
       "20          21    Elena Rodriguez     elena.rodriguez@mail.com  Alta Gracia   \n",
       "33          34       Bruno Castro       bruno.castro2@mail.com  Villa Maria   \n",
       "40          41    Elena Rodriguez    elena.rodriguez2@mail.com  Alta Gracia   \n",
       "45          46  Agustina Martinez   agustina.martinez@mail.com  Alta Gracia   \n",
       "57          58      Karina Acosta      karina.acosta2@mail.com   Rio Cuarto   \n",
       "78          79       Olivia Perez        olivia.perez@mail.com   Carlos Paz   \n",
       "84          85  Agustina Martinez  agustina.martinez2@mail.com   Mendiolaza   \n",
       "94          95       Olivia Perez       olivia.perez2@mail.com   Rio Cuarto   \n",
       "\n",
       "   fecha_alta  \n",
       "7  2023-01-08  \n",
       "9  2023-01-10  \n",
       "20 2023-01-21  \n",
       "33 2023-02-03  \n",
       "40 2023-02-10  \n",
       "45 2023-02-15  \n",
       "57 2023-02-27  \n",
       "78 2023-03-20  \n",
       "84 2023-03-26  \n",
       "94 2023-04-05  "
      ]
     },
     "execution_count": 37,
     "metadata": {},
     "output_type": "execute_result"
    }
   ],
   "source": [
    "# Identificar filas duplicadas específicas en df_clientes, ya que manualmente vimos que habia duplicados en la columna nombre_cliente\n",
    "df_clientes[df_clientes.duplicated(subset=['nombre_cliente'], keep=False)]"
   ]
  },
  {
   "cell_type": "markdown",
   "id": "fe16a7ae",
   "metadata": {},
   "source": [
    "Definimos que los nombres se repiten pero los otros datos no coinciden por lo tanto no se trata de duplicados"
   ]
  },
  {
   "cell_type": "markdown",
   "id": "c4813a09",
   "metadata": {},
   "source": [
    "En el caso que tengamos valores nulos podemos aplicar las siguientes acciones"
   ]
  },
  {
   "cell_type": "code",
   "execution_count": null,
   "id": "6743cd7d",
   "metadata": {},
   "outputs": [],
   "source": [
    "#sirve cualquiera de los datasets\n",
    "df_clientes.dropna() #eliminamos filas con valores nulos, aunque en este caso no hay ningun valor nulo\n",
    "df_clientes.fillna() #rellenamos valores nulos con un valor especifico, aunque en este caso no hay ningun valor nulo\n",
    "df_clientes.fillna(df['columna'].mean()) #rellenamos valores nulos con la media de la columna, aunque en este caso no hay ningun valor nulo"
   ]
  },
  {
   "cell_type": "markdown",
   "id": "454f2f63",
   "metadata": {},
   "source": [
    "En el caso que tengamos filas duplicadas podemos realizar las siguientes acciones"
   ]
  },
  {
   "cell_type": "code",
   "execution_count": null,
   "id": "2491b78a",
   "metadata": {},
   "outputs": [],
   "source": [
    "#sirve cualquiera de los datasets\n",
    "df_clientes.drop_duplicates() #eliminamos filas duplicadas, aunque en este caso no hay ningun dato duplicado"
   ]
  },
  {
   "cell_type": "code",
   "execution_count": null,
   "id": "b4b2591b",
   "metadata": {},
   "outputs": [
    {
     "data": {
      "text/html": [
       "<div>\n",
       "<style scoped>\n",
       "    .dataframe tbody tr th:only-of-type {\n",
       "        vertical-align: middle;\n",
       "    }\n",
       "\n",
       "    .dataframe tbody tr th {\n",
       "        vertical-align: top;\n",
       "    }\n",
       "\n",
       "    .dataframe thead th {\n",
       "        text-align: right;\n",
       "    }\n",
       "</style>\n",
       "<table border=\"1\" class=\"dataframe\">\n",
       "  <thead>\n",
       "    <tr style=\"text-align: right;\">\n",
       "      <th></th>\n",
       "      <th>id_venta</th>\n",
       "      <th>id_producto</th>\n",
       "      <th>cantidad</th>\n",
       "      <th>precio_unitario</th>\n",
       "      <th>importe</th>\n",
       "    </tr>\n",
       "  </thead>\n",
       "  <tbody>\n",
       "    <tr>\n",
       "      <th>count</th>\n",
       "      <td>343.000000</td>\n",
       "      <td>343.000000</td>\n",
       "      <td>343.000000</td>\n",
       "      <td>343.000000</td>\n",
       "      <td>343.000000</td>\n",
       "    </tr>\n",
       "    <tr>\n",
       "      <th>mean</th>\n",
       "      <td>61.492711</td>\n",
       "      <td>49.139942</td>\n",
       "      <td>2.962099</td>\n",
       "      <td>2654.495627</td>\n",
       "      <td>7730.078717</td>\n",
       "    </tr>\n",
       "    <tr>\n",
       "      <th>std</th>\n",
       "      <td>34.835525</td>\n",
       "      <td>29.135461</td>\n",
       "      <td>1.366375</td>\n",
       "      <td>1308.694720</td>\n",
       "      <td>5265.543077</td>\n",
       "    </tr>\n",
       "    <tr>\n",
       "      <th>min</th>\n",
       "      <td>1.000000</td>\n",
       "      <td>1.000000</td>\n",
       "      <td>1.000000</td>\n",
       "      <td>272.000000</td>\n",
       "      <td>272.000000</td>\n",
       "    </tr>\n",
       "    <tr>\n",
       "      <th>25%</th>\n",
       "      <td>31.000000</td>\n",
       "      <td>23.000000</td>\n",
       "      <td>2.000000</td>\n",
       "      <td>1618.500000</td>\n",
       "      <td>3489.000000</td>\n",
       "    </tr>\n",
       "    <tr>\n",
       "      <th>50%</th>\n",
       "      <td>61.000000</td>\n",
       "      <td>47.000000</td>\n",
       "      <td>3.000000</td>\n",
       "      <td>2512.000000</td>\n",
       "      <td>6702.000000</td>\n",
       "    </tr>\n",
       "    <tr>\n",
       "      <th>75%</th>\n",
       "      <td>93.000000</td>\n",
       "      <td>76.000000</td>\n",
       "      <td>4.000000</td>\n",
       "      <td>3876.000000</td>\n",
       "      <td>10231.500000</td>\n",
       "    </tr>\n",
       "    <tr>\n",
       "      <th>max</th>\n",
       "      <td>120.000000</td>\n",
       "      <td>100.000000</td>\n",
       "      <td>5.000000</td>\n",
       "      <td>4982.000000</td>\n",
       "      <td>24865.000000</td>\n",
       "    </tr>\n",
       "  </tbody>\n",
       "</table>\n",
       "</div>"
      ],
      "text/plain": [
       "         id_venta  id_producto    cantidad  precio_unitario       importe\n",
       "count  343.000000   343.000000  343.000000       343.000000    343.000000\n",
       "mean    61.492711    49.139942    2.962099      2654.495627   7730.078717\n",
       "std     34.835525    29.135461    1.366375      1308.694720   5265.543077\n",
       "min      1.000000     1.000000    1.000000       272.000000    272.000000\n",
       "25%     31.000000    23.000000    2.000000      1618.500000   3489.000000\n",
       "50%     61.000000    47.000000    3.000000      2512.000000   6702.000000\n",
       "75%     93.000000    76.000000    4.000000      3876.000000  10231.500000\n",
       "max    120.000000   100.000000    5.000000      4982.000000  24865.000000"
      ]
     },
     "execution_count": 42,
     "metadata": {},
     "output_type": "execute_result"
    }
   ],
   "source": [
    "# Estadísticas básicas\n",
    "df_detalle.describe()\n",
    "#esto me permite ver estadísticas como la media, desviación estándar, valores mínimos y máximos, y percentiles para las columnas numéricas en el dataset detalle_ventas"
   ]
  },
  {
   "cell_type": "code",
   "execution_count": 47,
   "id": "795ec58b",
   "metadata": {},
   "outputs": [
    {
     "data": {
      "text/html": [
       "<div>\n",
       "<style scoped>\n",
       "    .dataframe tbody tr th:only-of-type {\n",
       "        vertical-align: middle;\n",
       "    }\n",
       "\n",
       "    .dataframe tbody tr th {\n",
       "        vertical-align: top;\n",
       "    }\n",
       "\n",
       "    .dataframe thead th {\n",
       "        text-align: right;\n",
       "    }\n",
       "</style>\n",
       "<table border=\"1\" class=\"dataframe\">\n",
       "  <thead>\n",
       "    <tr style=\"text-align: right;\">\n",
       "      <th></th>\n",
       "      <th>id_venta</th>\n",
       "      <th>fecha</th>\n",
       "      <th>id_cliente</th>\n",
       "      <th>nombre_cliente</th>\n",
       "      <th>email</th>\n",
       "      <th>medio_pago</th>\n",
       "    </tr>\n",
       "  </thead>\n",
       "  <tbody>\n",
       "  </tbody>\n",
       "</table>\n",
       "</div>"
      ],
      "text/plain": [
       "Empty DataFrame\n",
       "Columns: [id_venta, fecha, id_cliente, nombre_cliente, email, medio_pago]\n",
       "Index: []"
      ]
     },
     "execution_count": 47,
     "metadata": {},
     "output_type": "execute_result"
    }
   ],
   "source": [
    "# Validar que todos los id_cliente en ventas existan en clientes\n",
    "df_ventas[~df_ventas['id_cliente'].isin(df_clientes['id_cliente'])]"
   ]
  },
  {
   "cell_type": "markdown",
   "id": "76eb4a76",
   "metadata": {},
   "source": [
    "Esto muestra que no hay ventas asociadas a clientes que no esten en el dataset clientes"
   ]
  },
  {
   "cell_type": "code",
   "execution_count": 48,
   "id": "86484e76",
   "metadata": {},
   "outputs": [
    {
     "data": {
      "text/html": [
       "<div>\n",
       "<style scoped>\n",
       "    .dataframe tbody tr th:only-of-type {\n",
       "        vertical-align: middle;\n",
       "    }\n",
       "\n",
       "    .dataframe tbody tr th {\n",
       "        vertical-align: top;\n",
       "    }\n",
       "\n",
       "    .dataframe thead th {\n",
       "        text-align: right;\n",
       "    }\n",
       "</style>\n",
       "<table border=\"1\" class=\"dataframe\">\n",
       "  <thead>\n",
       "    <tr style=\"text-align: right;\">\n",
       "      <th></th>\n",
       "      <th>id_venta</th>\n",
       "      <th>id_producto</th>\n",
       "      <th>nombre_producto</th>\n",
       "      <th>cantidad</th>\n",
       "      <th>precio_unitario</th>\n",
       "      <th>importe</th>\n",
       "    </tr>\n",
       "  </thead>\n",
       "  <tbody>\n",
       "  </tbody>\n",
       "</table>\n",
       "</div>"
      ],
      "text/plain": [
       "Empty DataFrame\n",
       "Columns: [id_venta, id_producto, nombre_producto, cantidad, precio_unitario, importe]\n",
       "Index: []"
      ]
     },
     "execution_count": 48,
     "metadata": {},
     "output_type": "execute_result"
    }
   ],
   "source": [
    "# Verificar productos inexistentes en detalle de venta\n",
    "df_detalle[~df_detalle['id_producto'].isin(df_productos['id_producto'])]"
   ]
  },
  {
   "cell_type": "markdown",
   "id": "bc329246",
   "metadata": {},
   "source": [
    "Esto muestra que no hay detalle de ventas asociadas a productos que no esten en el dataset productos"
   ]
  },
  {
   "cell_type": "markdown",
   "id": "e6fd15c4",
   "metadata": {},
   "source": [
    "Lo que puedo hacer es que todos los datos esten en minusculas, para evitar errores, ya que algunos datos se encuentran capitalizados, pero otros no estan capitalizados de forma correcta"
   ]
  },
  {
   "cell_type": "code",
   "execution_count": null,
   "id": "bb8136ba",
   "metadata": {},
   "outputs": [],
   "source": [
    "df_clientes_limpio = df_clientes.copy() #creo una copia del dataframe clientes para no modificar el original"
   ]
  }
 ],
 "metadata": {
  "kernelspec": {
   "display_name": "Python 3",
   "language": "python",
   "name": "python3"
  },
  "language_info": {
   "codemirror_mode": {
    "name": "ipython",
    "version": 3
   },
   "file_extension": ".py",
   "mimetype": "text/x-python",
   "name": "python",
   "nbconvert_exporter": "python",
   "pygments_lexer": "ipython3",
   "version": "3.11.9"
  }
 },
 "nbformat": 4,
 "nbformat_minor": 5
}
